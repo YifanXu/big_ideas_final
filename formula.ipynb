{
 "cells": [
  {
   "cell_type": "code",
   "execution_count": null,
   "id": "1fb007bb-2a5e-47b7-9136-5766f6cf5147",
   "metadata": {
    "scrolled": true
   },
   "outputs": [],
   "source": [
    "%%capture\n",
    "%run 'trees.ipynb'\n",
    "%run 'crime.ipynb'"
   ]
  },
  {
   "cell_type": "markdown",
   "id": "afa28655-fb84-409e-839b-7031fe3b503a",
   "metadata": {},
   "source": [
    "# Step One\n",
    "This code brings in the data that we collected in the other notebooks."
   ]
  },
  {
   "cell_type": "code",
   "execution_count": null,
   "id": "24f173ab-082a-412c-a23b-bd1ebca390f5",
   "metadata": {},
   "outputs": [],
   "source": [
    "import pandas as pd\n",
    "import geopandas as gpd\n",
    "\n",
    "neighborhood_score = gpd.read_file(\"https://data.wprdc.org/dataset/e672f13d-71c4-4a66-8f38-710e75ed80a4/resource/4af8e160-57e9-4ebf-a501-76ca1b42fc99/download/neighborhoods.geojson\")"
   ]
  },
  {
   "cell_type": "markdown",
   "id": "fac03232-8165-4486-848d-a57f2cf3befe",
   "metadata": {},
   "source": []
  },
  {
   "cell_type": "code",
   "execution_count": null,
   "id": "b0514101-f564-44e1-ba44-e2b10f0d1a84",
   "metadata": {},
   "outputs": [],
   "source": [
    "neighborhood_score['trees'] = trees_final['proportion']\n",
    "neighborhood_score['crime'] = crime_final['proportion']\n",
    "neighborhood_score['score'] = crime_final['proportion'] * trees_final['proportion']"
   ]
  },
  {
   "cell_type": "code",
   "execution_count": null,
   "id": "391d39e6-e300-438e-9313-a162a3c79657",
   "metadata": {},
   "outputs": [],
   "source": [
    "fig, ax = plt.subplots(1, 1, figsize=(12, 8))\n",
    "neighborhood_score.plot(\n",
    "    column='score',\n",
    "    cmap='Blues',\n",
    "    ax=ax,\n",
    "    legend=True,\n",
    "    edgecolor='gray'\n",
    ")\n",
    "\n",
    "ax.set_title(\"Neighborhood Score\", fontsize=16)\n",
    "ax.axis(\"off\")\n",
    "plt.show()\n",
    "\n",
    "print(neighborhood_score[['hood', 'score', 'trees', 'crime']].head(10))"
   ]
  }
 ],
 "metadata": {
  "kernelspec": {
   "display_name": "Python 3 (ipykernel)",
   "language": "python",
   "name": "python3"
  },
  "language_info": {
   "codemirror_mode": {
    "name": "ipython",
    "version": 3
   },
   "file_extension": ".py",
   "mimetype": "text/x-python",
   "name": "python",
   "nbconvert_exporter": "python",
   "pygments_lexer": "ipython3",
   "version": "3.11.5"
  }
 },
 "nbformat": 4,
 "nbformat_minor": 5
}
