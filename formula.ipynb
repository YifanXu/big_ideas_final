{
 "cells": [
  {
   "cell_type": "code",
   "execution_count": 3,
   "id": "1fb007bb-2a5e-47b7-9136-5766f6cf5147",
   "metadata": {
    "scrolled": true
   },
   "outputs": [],
   "source": [
    "%%capture\n",
    "%run 'trees.ipynb'\n",
    "%run 'crime.ipynb'"
   ]
  },
  {
   "cell_type": "markdown",
   "id": "afa28655-fb84-409e-839b-7031fe3b503a",
   "metadata": {},
   "source": [
    "# Step One\n",
    "This code brings in the data that we collected in the other notebooks."
   ]
  },
  {
   "cell_type": "code",
   "execution_count": null,
   "id": "24f173ab-082a-412c-a23b-bd1ebca390f5",
   "metadata": {},
   "outputs": [],
   "source": []
  }
 ],
 "metadata": {
  "kernelspec": {
   "display_name": "Python 3 (ipykernel)",
   "language": "python",
   "name": "python3"
  },
  "language_info": {
   "codemirror_mode": {
    "name": "ipython",
    "version": 3
   },
   "file_extension": ".py",
   "mimetype": "text/x-python",
   "name": "python",
   "nbconvert_exporter": "python",
   "pygments_lexer": "ipython3",
   "version": "3.11.5"
  }
 },
 "nbformat": 4,
 "nbformat_minor": 5
}
