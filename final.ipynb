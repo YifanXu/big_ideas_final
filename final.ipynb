{
 "cells": [
  {
   "cell_type": "markdown",
   "id": "afa28655-fb84-409e-839b-7031fe3b503a",
   "metadata": {},
   "source": [
    "# Intro\n",
    "Our task was to find the best neighborhood in Pittsburgh and to do this, we created a data-driven metric designed to evaluate the “best neighborhood for a family.” We decided to calculate this metric based on a given neighborhood’s tree cover, the crime rate, and number of accessible parks. The component data that we used for this project came from the Western Pennsylvania Regional Data Center."
   ]
  },
  {
   "cell_type": "code",
   "execution_count": 1,
   "id": "a42cf9ad-1615-4a53-ac15-d9f9bf2341dc",
   "metadata": {},
   "outputs": [],
   "source": [
    "# IMPORTS\n",
    "import pandas as pd\n",
    "import geopandas as gpd\n",
    "import matplotlib.pyplot as plt\n",
    "from shapely.geometry import Point"
   ]
  },
  {
   "cell_type": "code",
   "execution_count": 2,
   "id": "ce842e7f-296d-4a62-bd33-a996dadf9c3f",
   "metadata": {},
   "outputs": [],
   "source": [
    "neighborhoods = gpd.read_file(\"https://data.wprdc.org/dataset/e672f13d-71c4-4a66-8f38-710e75ed80a4/resource/4af8e160-57e9-4ebf-a501-76ca1b42fc99/download/neighborhoods.geojson\")\n",
    "trees = gpd.read_file(\"https://data.wprdc.org/dataset/9ce31f01-1dfa-4a14-9969-a5c5507a4b40/resource/d876927a-d3da-44d1-82e1-24310cdb7baf/download/trees_img.geojson\")\n",
    "\n",
    "trees = trees.to_crs(neighborhoods.crs)\n",
    "\n",
    "trees_with_neighborhoods = gpd.sjoin(trees, neighborhoods, how=\"inner\", predicate=\"within\")\n",
    "tree_counts = trees_with_neighborhoods.groupby(\"hood\").size().reset_index(name='tree_count')\n",
    "\n",
    "neighborhoods_with_counts = neighborhoods.merge(tree_counts, on=\"hood\", how=\"left\")\n",
    "neighborhoods_with_counts[\"tree_count\"] = neighborhoods_with_counts[\"tree_count\"].fillna(0).astype(int)\n",
    "\n",
    "neighborhoods_with_counts['trees_per_area'] = neighborhoods_with_counts['tree_count'] / neighborhoods_with_counts['Shape__Area']\n",
    "max_tree_count = neighborhoods_with_counts['trees_per_area'].max()\n",
    "neighborhoods_with_counts['proportion'] = neighborhoods_with_counts['trees_per_area'] / max_tree_count\n",
    "\n",
    "neighborhoods_with_counts = neighborhoods_with_counts.sort_values(by='proportion', ascending=False)\n",
    "neighborhoods_with_counts.reset_index(drop=True, inplace=True)\n",
    "\n",
    "trees_final = neighborhoods_with_counts[['hood', 'tree_count', 'proportion']]"
   ]
  },
  {
   "cell_type": "markdown",
   "id": "8974dda3-0295-41a7-a421-150a2dab1ef1",
   "metadata": {},
   "source": [
    "# Trees\n",
    "This data was included in our metric with the idea that the more trees are in a neighborhood, the more inviting it would be especially for children. When we first found this dataset, we believed that it was a complete tree cover dataset for the city of Pittsburgh. After working with the data for a while, it became clear that it must only include entries for trees that are planted or maintained by the city or municipal government. This is because each tree entry was far too detailed to account for every tree in Frick Park for example. In addition, some neighborhoods appeared to have far more trees than were reported here. We realized, however, that this data was still valuable because if it’s comprised of trees maintained by the government, a higher number of trees indicates strong civic initiatives. In addition, most trees planted and maintained by local governments are located in highly urbanized areas, so this tree score can also help to bolster a region that may not have many parks, but still has a lot of maintained green space."
   ]
  },
  {
   "cell_type": "code",
   "execution_count": 3,
   "id": "a9a52cfc-a200-4ebc-bd57-54d04eb7f2b9",
   "metadata": {},
   "outputs": [],
   "source": [
    "crime_df = pd.read_excel(\"https://data.wprdc.org/dataset/65e69ee3-93b2-4f7a-b9cb-8ce977f15d9a/resource/bd41992a-987a-4cca-8798-fbe1cd946b07/download/allmergedtables.xlsx\")\n",
    "\n",
    "crime_geo = [Point(xy) for xy in zip(crime_df['XCOORD'], crime_df['YCOORD'])]\n",
    "\n",
    "crime = gpd.GeoDataFrame(crime_df, geometry=crime_geo)\n",
    "crime.set_crs('EPSG:4326', allow_override=True, inplace=True);\n",
    "\n",
    "crime = crime.to_crs(neighborhoods.crs)\n",
    "\n",
    "neighborhood_crime = gpd.sjoin(crime, neighborhoods, how=\"inner\", predicate=\"within\")\n",
    "crime_count = neighborhood_crime.groupby(\"hood\").size().reset_index(name='crime_count')\n",
    "\n",
    "neighborhood_crime = neighborhoods.merge(crime_count, on=\"hood\", how=\"left\")\n",
    "neighborhood_crime[\"crime_count\"] = neighborhood_crime[\"crime_count\"].fillna(0).astype(int)\n",
    "\n",
    "max_crime = neighborhood_crime['crime_count'].max()\n",
    "neighborhood_crime['proportion'] = 1 - neighborhood_crime['crime_count'] / max_crime\n",
    "\n",
    "neighborhood_crime = neighborhood_crime.sort_values(by='proportion', ascending=False)\n",
    "neighborhood_crime.reset_index(drop=True, inplace=True)\n",
    "\n",
    "crime_final = neighborhood_crime[['hood', 'crime_count', 'proportion']]"
   ]
  },
  {
   "cell_type": "markdown",
   "id": "aabffc9d-4abd-4ae7-8de7-121ae1051931",
   "metadata": {},
   "source": [
    "# Crime\n",
    "For our crime data, we utilized the Pittsburgh crime dashboard. We included crime in our metric because a family would likely want their neighborhood to be safe. We intentionally did __not__ calculate the crime rate relative to the population living in an area. This is because if you live in a neighborhood, but most of the crime is committed by non-residents, you are still affected. The best example of this is the Southside which has a relatively high crime rate due to the location of many prominent bars on East Carson Street, yet when you account for population in these areas, the true effect is masked. "
   ]
  },
  {
   "cell_type": "code",
   "execution_count": null,
   "id": "af04a18e-ddd6-4b09-a4c1-558290df20e3",
   "metadata": {},
   "outputs": [],
   "source": []
  }
 ],
 "metadata": {
  "kernelspec": {
   "display_name": "Python 3 (ipykernel)",
   "language": "python",
   "name": "python3"
  },
  "language_info": {
   "codemirror_mode": {
    "name": "ipython",
    "version": 3
   },
   "file_extension": ".py",
   "mimetype": "text/x-python",
   "name": "python",
   "nbconvert_exporter": "python",
   "pygments_lexer": "ipython3",
   "version": "3.11.5"
  }
 },
 "nbformat": 4,
 "nbformat_minor": 5
}
